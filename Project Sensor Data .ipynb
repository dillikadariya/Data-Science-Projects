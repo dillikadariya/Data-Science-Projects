{
 "cells": [
  {
   "cell_type": "markdown",
   "id": "rising-while",
   "metadata": {},
   "source": [
    "# Sensor vs Temperature Data Preprocessing and Modeling"
   ]
  },
  {
   "cell_type": "markdown",
   "id": "f556656a-0815-4294-89e2-5a901e4aacad",
   "metadata": {
    "tags": []
   },
   "source": [
    "### Author: Dilliram Kadariya"
   ]
  },
  {
   "cell_type": "markdown",
   "id": "polar-spelling",
   "metadata": {},
   "source": [
    "## Problem Statement\n",
    "\n",
    "A scientist has collected sensor and temperature data as \"sensor.txt\" and \"temperature.txt\" file using her prototype sensor and temperature devices. Each line of the temperature file aligns with the corresponding line in the sensor file. But these data are faulty and needs to be prepared to get relavent insights for her scientific research. \n",
    "\n",
    "This project will focus on cleaning and visualizing the data acquired from the scientist using python codes in Anaconda platform (JupiterLab). \n"
   ]
  },
  {
   "cell_type": "markdown",
   "id": "2d0e26e0-ba07-4971-ab89-be3b19ac8295",
   "metadata": {
    "tags": []
   },
   "source": [
    "### <span style=\"color:red\">Function to Read Files</span>"
   ]
  },
  {
   "cell_type": "code",
   "execution_count": null,
   "id": "9ae9d912-f491-443f-b710-d7d777cabdb9",
   "metadata": {},
   "outputs": [],
   "source": [
    "def read_list_from_file(filespec, conversion=float):\n",
    "    \"\"\"Return a list with each line of the input file as an element.\"\"\"\n",
    "    with open (filesspec) as f:\n",
    "        # \"read\" does not provide conversion to types; it returns strings, so we need to convert the data\n",
    "        lines = list(map(conversion, f.read().splitlines()))\n",
    "    return(lines)"
   ]
  },
  {
   "cell_type": "markdown",
   "id": "fba98daf-2496-462f-9c5a-4a6984c33e7c",
   "metadata": {
    "tags": []
   },
   "source": [
    "### <span style=\"color:red\"> Reads the .txt Files</span>"
   ]
  },
  {
   "cell_type": "code",
   "execution_count": 12,
   "id": "5f878cd6-407f-4071-a2e4-36439ad2ef82",
   "metadata": {
    "tags": []
   },
   "outputs": [
    {
     "name": "stdout",
     "output_type": "stream",
     "text": [
      "Sensorlist = [-1808.0, 1664.4, 1382.2, 2320.4, 1403.4, 1766.0, -808.8, 1318.6, -1707.4, 1171.2, -1326.6, 1490.4, -2103.8, 1025.0, 2103.4, 1883.4, 1428.4, 899.2, 899.0, 850.5999999999999, 1054.8, 0.0, 1801.6, -1554.2, 1250.0, 861.4000000000001, 2091.0, 1770.2, 2159.8, 1222.8, 1793.2, 1353.8, 1833.6, 1332.4, 991.4000000000001, 1243.0, 1879.6, 1709.0, 1886.8, 1201.4, 1200.2, 1400.4, 1615.8, 1412.6, 1826.6, -1916.2, 0.0, 1605.0, 1532.8, 1444.2, 1693.4, -1652.4, 1426.6, 1573.2, 921.4000000000001, 1767.2, 1753.8, 1817.8, -1070.4, 1428.8, 1575.0, 1699.0, 1339.6, 1379.0, 1491.8, 1193.6, 1252.2, 1120.4, 1363.0, 1238.8, 0.0, 1525.4, 1410.8, 1635.8, 884.5999999999999, 726.0, 1532.8, 1317.2, 1040.8, 1094.4, 1135.8, 2183.0, 995.5999999999999, 1620.0, 1301.6, 1018.4000000000001, 1317.6, 1533.4, 1145.4, 2009.8, 1804.6, 1492.2, 1188.8, 1356.6, 1996.0, 1697.0, -2055.8, -1943.2, 1416.0, 1224.0, 1314.8, 0.0, 0.0, 2082.0, 1740.8, 1364.0, 904.8, 1406.6, 1586.0, 1851.8, 1772.8, 1052.6, 1228.8, 1080.4, 1796.0, 0.0, 915.4000000000001, -1325.8, 1460.6, 1848.2, 1442.0, 0.0, 1203.6, 2018.2, 1448.2, 1817.0, 2155.2, 1177.8, 0.0, 1039.2, 899.5999999999999, 0.0, 1835.4, 1313.0, 1584.8, 1030.2, 1661.4, 1677.4, 1287.4, 2099.4, 1943.0, 1040.6, 1261.8, 1532.6, 2000.4, 1977.2, 1217.0, 1493.6, 670.5999999999999, 0.0, 1275.8, 2112.0, 755.0, 2420.0, 1402.6, 1980.4, 1992.6, 1505.8, 1222.8, 1150.8, 1637.6, 1563.8, 1627.6, 1061.2, 0.0, 978.0, 2231.6, 1419.2, 856.4000000000001, 1695.6, 1154.8, 1792.6, 1131.4, 0.0, 2075.2, 1732.2, 1153.4, 1169.6, 1465.4, -1453.0, 2046.8, 1316.0, 2161.2, 1928.2, 1520.2, 1853.4, 1891.6, 915.2, 1312.4, 0.0, 1478.0, 1885.8, 1315.0, 1711.4, 1974.6, 0.0, 784.8, 1728.6, 1714.6, 798.0]\n",
      "\n",
      "\n",
      "Temperaturelist = [20.0, -13.0, -19.0, 27.0, -3.0, -5.0, -6.0, -12.0, 27.0, -14.0, 23.0, 27.0, 14.0, -15.0, 17.0, 7.0, -18.0, -19.0, -15.0, -7.0, -6.0, 12.0, 18.0, -19.0, 15.0, -8.0, 25.0, 21.0, 24.0, 14.0, 6.0, -6.0, 8.0, 17.0, -3.0, -20.0, 28.0, -10.0, 24.0, 7.0, 1.0, -3.0, -11.0, -7.0, 28.0, 1.0, -14.0, -15.0, 4.0, -14.0, 2.0, 2.0, 18.0, -4.0, -18.0, 26.0, 9.0, 14.0, -13.0, 4.0, -15.0, 15.0, -2.0, 20.0, 19.0, 3.0, 16.0, -8.0, 25.0, -16.0, -18.0, 22.0, -6.0, 29.0, -2.0, -15.0, -6.0, -14.0, 4.0, -3.0, 9.0, 20.0, 3.0, -10.0, 3.0, 2.0, -7.0, 22.0, -3.0, 24.0, 23.0, 21.0, -16.0, 18.0, 20.0, -10.0, 14.0, 26.0, -5.0, -10.0, 9.0, 4.0, -3.0, 20.0, 24.0, 15.0, -6.0, 23.0, 0.0, 29.0, 29.0, -17.0, -6.0, -18.0, 0.0, 5.0, -3.0, -16.0, -7.0, 16.0, 25.0, 0.0, -7.0, 21.0, 11.0, 5.0, 21.0, 9.0, -11.0, -4.0, -12.0, -5.0, 27.0, 15.0, 14.0, -4.0, 27.0, 17.0, 7.0, 17.0, 5.0, 3.0, -6.0, -12.0, 12.0, 11.0, -15.0, 28.0, -17.0, -13.0, -11.0, 20.0, -10.0, 30.0, 23.0, 7.0, 18.0, -16.0, 4.0, 4.0, 18.0, 9.0, 13.0, -4.0, 15.0, -20.0, 23.0, 26.0, -13.0, 23.0, 14.0, 28.0, -3.0, 29.0, 21.0, 1.0, -13.0, -2.0, 7.0, -10.0, 9.0, -20.0, 26.0, 26.0, -4.0, 12.0, 28.0, -9.0, 12.0, -14.0, 20.0, -1.0, 20.0, 12.0, 18.0, -8.0, -11.0, 3.0, 28.0, -10.0]\n",
      "\n",
      "\n"
     ]
    }
   ],
   "source": [
    "filesspec = r'C:\\Users\\dilli\\Downloads/Sensor Data Preparation Project/sensor.txt'\n",
    "sensorlist = read_list_from_file(r'C:\\Users\\dilli\\Downloads/Sensor Data Preparation Project/sensor.txt')\n",
    "\n",
    "filesspec = r'C:\\Users\\dilli\\Downloads/Sensor Data Preparation Project/temperature.txt'\n",
    "templist = read_list_from_file(r'C:\\Users\\dilli\\Downloads/Sensor Data Preparation Project/temperature.txt')\n",
    "\n",
    "print(f\"Sensorlist = { sensorlist}\\n\\n\")\n",
    "print(f\"Temperaturelist = { templist}\\n\\n\")\n"
   ]
  },
  {
   "cell_type": "markdown",
   "id": "senior-brisbane",
   "metadata": {},
   "source": [
    "### <span style=\"color:red\">Descriptive Statistics</span>\n",
    "\n",
    "* A Python function to compute and print the following descriptive statistics for an input list.\n",
    "    - count\n",
    "    - min \n",
    "    - max\n",
    "    - mean\n",
    "    - sum\n",
    "    - mode\n",
    "    - median\n",
    "    - population standard deviation"
   ]
  },
  {
   "cell_type": "code",
   "execution_count": 23,
   "id": "859b3fbc-9246-462a-ba3f-9514bb00d771",
   "metadata": {
    "tags": []
   },
   "outputs": [
    {
     "name": "stdout",
     "output_type": "stream",
     "text": [
      "Temperature data stats:\n",
      " Count, Min, Max, Mean, Sum, Mode, Median\n",
      "(200, -20.0, 30.0, 5.0, 1000.0, 20.0, 4.0)\n",
      "\n",
      "Sensor data stats:\n",
      "Count, Min, Max, Mean, Sum, Mode, Median\n",
      "(200, -2103.8, 2420.0, 1175.615, 235123.0000000001, 0.0, 1380.6)\n"
     ]
    }
   ],
   "source": [
    "import statistics\n",
    "\n",
    "def stat(input_list):            # function to compute stats\n",
    "    Count = len(input_list)\n",
    "    Min = min(input_list)\n",
    "    Max = max(input_list)\n",
    "    Sum = sum(input_list)\n",
    "    try:\n",
    "        Mode = statistics.mode(input_list)\n",
    "    except statistics.StatisticsError:\n",
    "        Mode = \"No unique mode\"\n",
    "    Median = statistics.median(input_list)\n",
    "    Mean = statistics.mean(input_list)\n",
    "    \n",
    "    return Count, Min, Max, Mean, Sum, Mode, Median\n",
    "\n",
    "#calling the \"read\" function to reference our lists\n",
    "filesspec = r'C:\\Users\\dilli\\Downloads/Sensor Data Preparation Project/sensor.txt'\n",
    "sensorlist = read_list_from_file(r'C:\\Users\\dilli\\Downloads/Sensor Data Preparation Project/sensor.txt')\n",
    "\n",
    "filesspec = r'C:\\Users\\dilli\\Downloads/Sensor Data Preparation Project/temperature.txt'\n",
    "templist = read_list_from_file(r'C:\\Users\\dilli\\Downloads/Sensor Data Preparation Project/temperature.txt')\n",
    "\n",
    "#using the stat function for both lists\n",
    "result1 = stat(templist)\n",
    "result2 = stat(sensorlist)\n",
    "\n",
    "print(f\"Temperature data stats:\\n Count, Min, Max, Mean, Sum, Mode, Median\\n{result1}\\n\")\n",
    "print(f\"Sensor data stats:\\nCount, Min, Max, Mean, Sum, Mode, Median\\n{result2}\")"
   ]
  },
  {
   "cell_type": "markdown",
   "id": "committed-knock",
   "metadata": {},
   "source": [
    "### <span style=\"color:red\">Frequency of Data Points</span>\n",
    "\n",
    "* A Python function to compute and print the frequency of each value in an input list. The function accepts a list of values and returns a dictionary of values mapped to frequencies.  \n"
   ]
  },
  {
   "cell_type": "code",
   "execution_count": 31,
   "id": "87b39a03-01c0-4294-a5b7-35d6a8d298dd",
   "metadata": {
    "tags": []
   },
   "outputs": [
    {
     "name": "stdout",
     "output_type": "stream",
     "text": [
      "Frequency of values in temperature data:\n",
      "{20.0: 8, -13.0: 5, -19.0: 3, 27.0: 5, -3.0: 8, -5.0: 3, -6.0: 8, -12.0: 3, -14.0: 5, 23.0: 6, 14.0: 6, -15.0: 6, 17.0: 4, 7.0: 5, -18.0: 4, -7.0: 5, 12.0: 5, 18.0: 6, 15.0: 5, -8.0: 3, 25.0: 3, 21.0: 5, 24.0: 4, 6.0: 1, 8.0: 1, -20.0: 3, 28.0: 6, -10.0: 7, 1.0: 3, -11.0: 4, 4.0: 6, 2.0: 3, -4.0: 5, 26.0: 5, 9.0: 6, -2.0: 3, 19.0: 1, 3.0: 5, 16.0: 2, -16.0: 4, 22.0: 2, 29.0: 4, 0.0: 3, -17.0: 2, 5.0: 3, 11.0: 2, 30.0: 1, 13.0: 1, -9.0: 1, -1.0: 1}\n",
      "\n",
      "Frequency of values in sensor data:\n",
      "{-1808.0: 1, 1664.4: 1, 1382.2: 1, 2320.4: 1, 1403.4: 1, 1766.0: 1, -808.8: 1, 1318.6: 1, -1707.4: 1, 1171.2: 1, -1326.6: 1, 1490.4: 1, -2103.8: 1, 1025.0: 1, 2103.4: 1, 1883.4: 1, 1428.4: 1, 899.2: 1, 899.0: 1, 850.5999999999999: 1, 1054.8: 1, 0.0: 14, 1801.6: 1, -1554.2: 1, 1250.0: 1, 861.4000000000001: 1, 2091.0: 1, 1770.2: 1, 2159.8: 1, 1222.8: 2, 1793.2: 1, 1353.8: 1, 1833.6: 1, 1332.4: 1, 991.4000000000001: 1, 1243.0: 1, 1879.6: 1, 1709.0: 1, 1886.8: 1, 1201.4: 1, 1200.2: 1, 1400.4: 1, 1615.8: 1, 1412.6: 1, 1826.6: 1, -1916.2: 1, 1605.0: 1, 1532.8: 2, 1444.2: 1, 1693.4: 1, -1652.4: 1, 1426.6: 1, 1573.2: 1, 921.4000000000001: 1, 1767.2: 1, 1753.8: 1, 1817.8: 1, -1070.4: 1, 1428.8: 1, 1575.0: 1, 1699.0: 1, 1339.6: 1, 1379.0: 1, 1491.8: 1, 1193.6: 1, 1252.2: 1, 1120.4: 1, 1363.0: 1, 1238.8: 1, 1525.4: 1, 1410.8: 1, 1635.8: 1, 884.5999999999999: 1, 726.0: 1, 1317.2: 1, 1040.8: 1, 1094.4: 1, 1135.8: 1, 2183.0: 1, 995.5999999999999: 1, 1620.0: 1, 1301.6: 1, 1018.4000000000001: 1, 1317.6: 1, 1533.4: 1, 1145.4: 1, 2009.8: 1, 1804.6: 1, 1492.2: 1, 1188.8: 1, 1356.6: 1, 1996.0: 1, 1697.0: 1, -2055.8: 1, -1943.2: 1, 1416.0: 1, 1224.0: 1, 1314.8: 1, 2082.0: 1, 1740.8: 1, 1364.0: 1, 904.8: 1, 1406.6: 1, 1586.0: 1, 1851.8: 1, 1772.8: 1, 1052.6: 1, 1228.8: 1, 1080.4: 1, 1796.0: 1, 915.4000000000001: 1, -1325.8: 1, 1460.6: 1, 1848.2: 1, 1442.0: 1, 1203.6: 1, 2018.2: 1, 1448.2: 1, 1817.0: 1, 2155.2: 1, 1177.8: 1, 1039.2: 1, 899.5999999999999: 1, 1835.4: 1, 1313.0: 1, 1584.8: 1, 1030.2: 1, 1661.4: 1, 1677.4: 1, 1287.4: 1, 2099.4: 1, 1943.0: 1, 1040.6: 1, 1261.8: 1, 1532.6: 1, 2000.4: 1, 1977.2: 1, 1217.0: 1, 1493.6: 1, 670.5999999999999: 1, 1275.8: 1, 2112.0: 1, 755.0: 1, 2420.0: 1, 1402.6: 1, 1980.4: 1, 1992.6: 1, 1505.8: 1, 1150.8: 1, 1637.6: 1, 1563.8: 1, 1627.6: 1, 1061.2: 1, 978.0: 1, 2231.6: 1, 1419.2: 1, 856.4000000000001: 1, 1695.6: 1, 1154.8: 1, 1792.6: 1, 1131.4: 1, 2075.2: 1, 1732.2: 1, 1153.4: 1, 1169.6: 1, 1465.4: 1, -1453.0: 1, 2046.8: 1, 1316.0: 1, 2161.2: 1, 1928.2: 1, 1520.2: 1, 1853.4: 1, 1891.6: 1, 915.2: 1, 1312.4: 1, 1478.0: 1, 1885.8: 1, 1315.0: 1, 1711.4: 1, 1974.6: 1, 784.8: 1, 1728.6: 1, 1714.6: 1, 798.0: 1}\n"
     ]
    }
   ],
   "source": [
    "def frequency(input_list):\n",
    "    frequency_dict = {}\n",
    "    for item in input_list:\n",
    "        frequency_dict[item] = frequency_dict.get(item, 0) + 1\n",
    "    return frequency_dict\n",
    "\n",
    "#calling the \"read\" function to reference our lists\n",
    "filesspec = r'C:\\Users\\dilli\\Downloads/Sensor Data Preparation Project/sensor.txt'\n",
    "sensorlist = read_list_from_file(r'C:\\Users\\dilli\\Downloads/Sensor Data Preparation Project/sensor.txt')\n",
    "\n",
    "filesspec = r'C:\\Users\\dilli\\Downloads/Sensor Data Preparation Project/temperature.txt'\n",
    "templist = read_list_from_file(r'C:\\Users\\dilli\\Downloads/Sensor Data Preparation Project/temperature.txt')\n",
    "\n",
    "# Computes frequency for temperature data\n",
    "temperature_frequency = frequency(templist)\n",
    "print(\"Frequency of values in temperature data:\")\n",
    "print(temperature_frequency)\n",
    "\n",
    "# Computes frequency for sensor data\n",
    "sensor_frequency = frequency(sensorlist)\n",
    "print(\"\\nFrequency of values in sensor data:\")\n",
    "print(sensor_frequency)"
   ]
  },
  {
   "cell_type": "markdown",
   "id": "organized-steps",
   "metadata": {},
   "source": [
    "## Visualizing Data"
   ]
  },
  {
   "cell_type": "markdown",
   "id": "temporal-namibia",
   "metadata": {},
   "source": [
    "### <span style=\"color:red\">Scatter Plot</span>\n",
    "\n",
    "* A Python function to draw a scatter plot with x-axis as \"Temperature\" and the y-access as \"Sensor\".\n"
   ]
  },
  {
   "cell_type": "code",
   "execution_count": 28,
   "id": "bdcabb3b-e42f-4383-a39b-7d1b074d9ac4",
   "metadata": {
    "tags": []
   },
   "outputs": [
    {
     "data": {
      "image/png": "[encoded data removed]",
      "text/plain": [
       "<Figure size 1000x600 with 1 Axes>"
      ]
     },
     "metadata": {},
     "output_type": "display_data"
    }
   ],
   "source": [
    "import numpy as np\n",
    "\n",
    "%matplotlib inline\n",
    "import matplotlib as mpl\n",
    "import matplotlib.pyplot as plt\n",
    "mpl.rc('axes', labelsize=14)\n",
    "mpl.rc('xtick', labelsize=12)\n",
    "mpl.rc('ytick', labelsize=12)\n",
    "\n",
    "X_values = templist\n",
    "y_values = sensorlist\n",
    "\n",
    "plt.figure(figsize=(10, 6))\n",
    "plt.scatter(x=X_values,y=y_values)\n",
    "\n",
    "plt.title('Sensor by Temperature (Raw Data)')\n",
    "plt.xlabel('Temperature')\n",
    "plt.ylabel('Sensor')\n",
    "\n",
    "plt.show()\n",
    "    "
   ]
  },
  {
   "cell_type": "markdown",
   "id": "different-radical",
   "metadata": {},
   "source": [
    "### <span style=\"color:red\">Bar Plot</span>\n",
    "\n",
    "* Frequency of temperature values as a bar plot  \n",
    "* Frequency of sensor values as a bar plot \n"
   ]
  },
  {
   "cell_type": "code",
   "execution_count": 114,
   "id": "a58358cd-5b07-4810-859c-219917df9713",
   "metadata": {
    "tags": []
   },
   "outputs": [
    {
     "data": {
      "image/png": "[encoded data removed]",
      "text/plain": [
       "<Figure size 1200x600 with 1 Axes>"
      ]
     },
     "metadata": {},
     "output_type": "display_data"
    },
    {
     "data": {
      "image/png": "[encoded data removed]",
      "text/plain": [
       "<Figure size 1200x600 with 1 Axes>"
      ]
     },
     "metadata": {},
     "output_type": "display_data"
    }
   ],
   "source": [
    "import numpy as np\n",
    "\n",
    "%matplotlib inline\n",
    "import matplotlib as mpl\n",
    "import matplotlib.pyplot as plt\n",
    "mpl.rc('axes', labelsize=14)\n",
    "mpl.rc('xtick', labelsize=12)\n",
    "mpl.rc('ytick', labelsize=12)\n",
    "\n",
    "unique_ratings, counts = np.unique(templist, return_counts=True)\n",
    "\n",
    "plt.figure(figsize=(12, 6))  \n",
    "plt.bar(unique_ratings, counts, color='blue')\n",
    "plt.xlabel('Temperature')\n",
    "plt.ylabel('Frequency')\n",
    "plt.title('Frequency of Temperature')\n",
    "plt.show()\n",
    "\n",
    "unique_ratings, counts = np.unique(sensorlist, return_counts=True)\n",
    "\n",
    "plt.figure(figsize=(12, 6))  \n",
    "plt.bar(unique_ratings, counts, color='green')\n",
    "plt.xlabel('Sensor')\n",
    "plt.ylabel('Frequency')\n",
    "plt.title('Frequency of Sensor')\n",
    "plt.show()"
   ]
  },
  {
   "cell_type": "markdown",
   "id": "incomplete-radiation",
   "metadata": {},
   "source": [
    "## Data Cleaning/Preparation  \n",
    "\n",
    "Possible sensor errors:\n",
    "1.  Sometimes the sensor is too slow to capture a reading.  Missing values are represented as sensor values of 0.There is no way to estimate the true value in this case, so these readings are dropped. \n",
    "2. There is a sensor bug that sometimes reports the sensor value as a negative value rather than the true positive value. These are replaced with the absolute value (positive value) of the reading.\n",
    "3. Sensor may report values below 1000 (minimum) and above 2000 (maximum), these are replaced with the valid min or max, as appropriate."
   ]
  },
  {
   "cell_type": "markdown",
   "id": "subtle-provider",
   "metadata": {},
   "source": [
    "### <span style=\"color:red\">Code to Correct Data Errors</span>\n",
    "\n",
    "* This function will take as input the temperature list and the sensor list and return two new lists (i.e., the \"cleaned\" temperature and sensor lists).  \n"
   ]
  },
  {
   "cell_type": "code",
   "execution_count": 41,
   "id": "9c6bdc2c-4557-4492-9621-4a34ce2d5eac",
   "metadata": {
    "tags": []
   },
   "outputs": [
    {
     "name": "stdout",
     "output_type": "stream",
     "text": [
      "Clean Temperature List: [-13.0, -19.0, -3.0, -5.0, -12.0, -14.0, 27.0, -15.0, 7.0, -18.0, -6.0, 18.0, 15.0, 21.0, 14.0, 6.0, -6.0, 8.0, 17.0, -20.0, 28.0, -10.0, 24.0, 7.0, 1.0, -3.0, -11.0, -7.0, 28.0, -15.0, 4.0, -14.0, 2.0, 18.0, -4.0, 26.0, 9.0, 14.0, 4.0, -15.0, 15.0, -2.0, 20.0, 19.0, 3.0, 16.0, -8.0, 25.0, -16.0, 22.0, -6.0, 29.0, -6.0, -14.0, 4.0, -3.0, 9.0, -10.0, 3.0, 2.0, -7.0, 22.0, -3.0, 23.0, 21.0, -16.0, 18.0, 20.0, -10.0, -5.0, -10.0, 9.0, 24.0, 15.0, 23.0, 0.0, 29.0, 29.0, -17.0, -6.0, -18.0, 0.0, -7.0, 16.0, 25.0, -7.0, 11.0, 5.0, 9.0, -4.0, 27.0, 15.0, 14.0, -4.0, 27.0, 17.0, 7.0, 5.0, 3.0, -6.0, -12.0, 11.0, -15.0, 28.0, -11.0, 23.0, 7.0, 18.0, -16.0, 4.0, 4.0, 18.0, 9.0, 13.0, -4.0, 26.0, 23.0, 14.0, 28.0, -3.0, 1.0, -13.0, -2.0, 7.0, -20.0, 26.0, -4.0, 12.0, 28.0, 12.0, 20.0, -1.0, 20.0, 12.0, 18.0, 3.0, 28.0]\n",
      "\n",
      "Clean Sensor List: [1664.4, 1382.2, 1403.4, 1766.0, 1318.6, 1171.2, 1490.4, 1025.0, 1883.4, 1428.4, 1054.8, 1801.6, 1250.0, 1770.2, 1222.8, 1793.2, 1353.8, 1833.6, 1332.4, 1243.0, 1879.6, 1709.0, 1886.8, 1201.4, 1200.2, 1400.4, 1615.8, 1412.6, 1826.6, 1605.0, 1532.8, 1444.2, 1693.4, 1426.6, 1573.2, 1767.2, 1753.8, 1817.8, 1428.8, 1575.0, 1699.0, 1339.6, 1379.0, 1491.8, 1193.6, 1252.2, 1120.4, 1363.0, 1238.8, 1525.4, 1410.8, 1635.8, 1532.8, 1317.2, 1040.8, 1094.4, 1135.8, 1620.0, 1301.6, 1018.4000000000001, 1317.6, 1533.4, 1145.4, 1804.6, 1492.2, 1188.8, 1356.6, 1996.0, 1697.0, 1416.0, 1224.0, 1314.8, 1740.8, 1364.0, 1406.6, 1586.0, 1851.8, 1772.8, 1052.6, 1228.8, 1080.4, 1796.0, 1460.6, 1848.2, 1442.0, 1203.6, 1448.2, 1817.0, 1177.8, 1039.2, 1835.4, 1313.0, 1584.8, 1030.2, 1661.4, 1677.4, 1287.4, 1943.0, 1040.6, 1261.8, 1532.6, 1977.2, 1217.0, 1493.6, 1275.8, 1402.6, 1980.4, 1992.6, 1505.8, 1222.8, 1150.8, 1637.6, 1563.8, 1627.6, 1061.2, 1419.2, 1695.6, 1154.8, 1792.6, 1131.4, 1732.2, 1153.4, 1169.6, 1465.4, 1316.0, 1928.2, 1520.2, 1853.4, 1891.6, 1312.4, 1478.0, 1885.8, 1315.0, 1711.4, 1974.6, 1728.6, 1714.6]\n"
     ]
    }
   ],
   "source": [
    "def preparation(templist, sensorlist):\n",
    "    new_sensorlist = []\n",
    "    new_templist = []\n",
    "    \n",
    "    for tem, sensor in zip(templist, sensorlist):\n",
    "        if sensor == 0:\n",
    "            continue \n",
    "        elif sensor<=1000 or sensor >= 2000:\n",
    "            continue\n",
    "        elif sensor<0:\n",
    "            newitem= abs(sensor)\n",
    "            \n",
    "        else:\n",
    "            new_sensorlist.append(sensor)\n",
    "            new_templist.append(tem)  # Add corresponding templist data for valid sensorlist data\n",
    "            \n",
    "    return new_templist, new_sensorlist\n",
    "\n",
    "\n",
    "#calling the \"read\" function to reference our lists\n",
    "filesspec = r'C:\\Users\\dilli\\Downloads/Sensor Data Preparation Project/sensor.txt'\n",
    "sensorlist = read_list_from_file(r'C:\\Users\\dilli\\Downloads/Sensor Data Preparation Project/sensor.txt')\n",
    "\n",
    "filesspec = r'C:\\Users\\dilli\\Downloads/Sensor Data Preparation Project/temperature.txt'\n",
    "templist = read_list_from_file(r'C:\\Users\\dilli\\Downloads/Sensor Data Preparation Project/temperature.txt')\n",
    "\n",
    "\n",
    "new_templist, new_sensorlist = preparation(templist, sensorlist)\n",
    "print(\"Clean Temperature List:\", new_templist)\n",
    "print(\"\\nClean Sensor List:\", new_sensorlist)"
   ]
  },
  {
   "cell_type": "markdown",
   "id": "awful-lying",
   "metadata": {},
   "source": [
    "### <span style=\"color:red\">Descriptive Statistics on Cleaned Data</span>\n",
    "\n",
    "* Runs \"descriptive statistics\" and \"frequency\" functions on the clean temperature and sensor lists and compares them to the \"raw\" results."
   ]
  },
  {
   "cell_type": "code",
   "execution_count": 42,
   "id": "c57d1791-ec72-47c4-b42e-ee52489af37a",
   "metadata": {
    "tags": []
   },
   "outputs": [
    {
     "name": "stdout",
     "output_type": "stream",
     "text": [
      "Cleaned Temperature data stats: \n",
      "Count, Min, Max, Mean, Sum, Mode, Median\n",
      "(137, -20.0, 29.0, 5.810218978102189, 796.0, -6.0, 5.0)\n",
      "\n",
      "Cleaned Sensor data stats:\n",
      "Count, Min, Max, Mean, Sum, Mode, Median\n",
      " (137, 1018.4000000000001, 1996.0, 1482.2788321167884, 203072.20000000004, 1222.8, 1448.2)\n",
      "\n",
      "Cleaned Frequency of values in temperature data:\n",
      "{-13.0: 2, -19.0: 1, -3.0: 5, -5.0: 2, -12.0: 2, -14.0: 3, 27.0: 3, -15.0: 4, 7.0: 5, -18.0: 2, -6.0: 6, 18.0: 6, 15.0: 4, 21.0: 2, 14.0: 4, 6.0: 1, 8.0: 1, 17.0: 2, -20.0: 2, 28.0: 6, -10.0: 4, 24.0: 2, 1.0: 2, -11.0: 2, -7.0: 4, 4.0: 5, 2.0: 2, -4.0: 5, 26.0: 3, 9.0: 5, -2.0: 2, 20.0: 4, 19.0: 1, 3.0: 4, 16.0: 2, -8.0: 1, 25.0: 2, -16.0: 3, 22.0: 2, 29.0: 3, 23.0: 4, 0.0: 2, -17.0: 1, 11.0: 2, 5.0: 2, 13.0: 1, 12.0: 3, -1.0: 1}\n",
      "\n",
      "Cleaned Frequency of values in sensor data:\n",
      "{1664.4: 1, 1382.2: 1, 1403.4: 1, 1766.0: 1, 1318.6: 1, 1171.2: 1, 1490.4: 1, 1025.0: 1, 1883.4: 1, 1428.4: 1, 1054.8: 1, 1801.6: 1, 1250.0: 1, 1770.2: 1, 1222.8: 2, 1793.2: 1, 1353.8: 1, 1833.6: 1, 1332.4: 1, 1243.0: 1, 1879.6: 1, 1709.0: 1, 1886.8: 1, 1201.4: 1, 1200.2: 1, 1400.4: 1, 1615.8: 1, 1412.6: 1, 1826.6: 1, 1605.0: 1, 1532.8: 2, 1444.2: 1, 1693.4: 1, 1426.6: 1, 1573.2: 1, 1767.2: 1, 1753.8: 1, 1817.8: 1, 1428.8: 1, 1575.0: 1, 1699.0: 1, 1339.6: 1, 1379.0: 1, 1491.8: 1, 1193.6: 1, 1252.2: 1, 1120.4: 1, 1363.0: 1, 1238.8: 1, 1525.4: 1, 1410.8: 1, 1635.8: 1, 1317.2: 1, 1040.8: 1, 1094.4: 1, 1135.8: 1, 1620.0: 1, 1301.6: 1, 1018.4000000000001: 1, 1317.6: 1, 1533.4: 1, 1145.4: 1, 1804.6: 1, 1492.2: 1, 1188.8: 1, 1356.6: 1, 1996.0: 1, 1697.0: 1, 1416.0: 1, 1224.0: 1, 1314.8: 1, 1740.8: 1, 1364.0: 1, 1406.6: 1, 1586.0: 1, 1851.8: 1, 1772.8: 1, 1052.6: 1, 1228.8: 1, 1080.4: 1, 1796.0: 1, 1460.6: 1, 1848.2: 1, 1442.0: 1, 1203.6: 1, 1448.2: 1, 1817.0: 1, 1177.8: 1, 1039.2: 1, 1835.4: 1, 1313.0: 1, 1584.8: 1, 1030.2: 1, 1661.4: 1, 1677.4: 1, 1287.4: 1, 1943.0: 1, 1040.6: 1, 1261.8: 1, 1532.6: 1, 1977.2: 1, 1217.0: 1, 1493.6: 1, 1275.8: 1, 1402.6: 1, 1980.4: 1, 1992.6: 1, 1505.8: 1, 1150.8: 1, 1637.6: 1, 1563.8: 1, 1627.6: 1, 1061.2: 1, 1419.2: 1, 1695.6: 1, 1154.8: 1, 1792.6: 1, 1131.4: 1, 1732.2: 1, 1153.4: 1, 1169.6: 1, 1465.4: 1, 1316.0: 1, 1928.2: 1, 1520.2: 1, 1853.4: 1, 1891.6: 1, 1312.4: 1, 1478.0: 1, 1885.8: 1, 1315.0: 1, 1711.4: 1, 1974.6: 1, 1728.6: 1, 1714.6: 1}\n"
     ]
    }
   ],
   "source": [
    "import statistics\n",
    "\n",
    "def stat(input_list):\n",
    "    Count = len(input_list)\n",
    "    Min = min(input_list)\n",
    "    Max = max(input_list)\n",
    "    Sum = sum(input_list)\n",
    "    try:\n",
    "        Mode = statistics.mode(input_list)\n",
    "    except statistics.StatisticsError:\n",
    "        Mode = \"No unique mode\"\n",
    "    Median = statistics.median(input_list)\n",
    "    Mean = statistics.mean(input_list)\n",
    "    \n",
    "    return Count, Min, Max, Mean, Sum, Mode, Median\n",
    "\n",
    "#using the stat function for both lists\n",
    "result1 = stat(new_templist)\n",
    "result2 = stat(new_sensorlist)\n",
    "\n",
    "print(f\"Cleaned Temperature data stats: \\nCount, Min, Max, Mean, Sum, Mode, Median\\n{result1}\")\n",
    "print(f\"\\nCleaned Sensor data stats:\\nCount, Min, Max, Mean, Sum, Mode, Median\\n {result2}\")\n",
    "\n",
    "def frequency(input_list):\n",
    "    frequency_dict = {}\n",
    "    for item in input_list:\n",
    "        frequency_dict[item] = frequency_dict.get(item, 0) + 1\n",
    "    return frequency_dict\n",
    "\n",
    "# Computes frequency for temperature data\n",
    "temperature_frequency = frequency(new_templist)\n",
    "print(\"\\nCleaned Frequency of values in temperature data:\")\n",
    "print(temperature_frequency)\n",
    "\n",
    "# Computes frequency for sensor data\n",
    "sensor_frequency = frequency(new_sensorlist)\n",
    "print(\"\\nCleaned Frequency of values in sensor data:\")\n",
    "print(sensor_frequency)"
   ]
  },
  {
   "cell_type": "markdown",
   "id": "appreciated-ireland",
   "metadata": {},
   "source": [
    "### <span style=\"color:red\">Scatter Plot for Cleaned Data</span>\n"
   ]
  },
  {
   "cell_type": "code",
   "execution_count": 43,
   "id": "9d682cdc-a6d9-40f3-a767-6fcf49aedd3d",
   "metadata": {
    "tags": []
   },
   "outputs": [
    {
     "data": {
      "image/png": "[encoded data removed]",
      "text/plain": [
       "<Figure size 1000x600 with 1 Axes>"
      ]
     },
     "metadata": {},
     "output_type": "display_data"
    }
   ],
   "source": [
    "import numpy as np\n",
    "\n",
    "%matplotlib inline\n",
    "import matplotlib as mpl\n",
    "import matplotlib.pyplot as plt\n",
    "mpl.rc('axes', labelsize=14)\n",
    "mpl.rc('xtick', labelsize=12)\n",
    "mpl.rc('ytick', labelsize=12)\n",
    "\n",
    "X_values = new_templist\n",
    "y_values = new_sensorlist\n",
    "\n",
    "plt.figure(figsize=(10, 6))\n",
    "plt.scatter(x=X_values,y=y_values)\n",
    "\n",
    "plt.title('Sensor by Temperature (Prepared Data)')\n",
    "plt.xlabel('Temperature')\n",
    "plt.ylabel('Sensor')\n",
    "\n",
    "plt.show()"
   ]
  },
  {
   "cell_type": "markdown",
   "id": "indian-slave",
   "metadata": {},
   "source": [
    "## Model Building\n",
    "\n",
    "Building a linear regression model to fit the data"
   ]
  },
  {
   "cell_type": "markdown",
   "id": "copyrighted-drain",
   "metadata": {},
   "source": [
    "### <span style=\"color:red\">Using numpy to apply data into the model</span>\n",
    "\n",
    "The scilearn-kit libraries require training data to be in a numpy \"array of arrays\".\n",
    "\n",
    "* Creates a \"training_X\" numpy array of arrays from \"prepared\" temperature list (using np.c_).\n",
    "* Creates a \"training_y\" numpy array of arrays from \"prepared\" sensor list (using np.c_)."
   ]
  },
  {
   "cell_type": "code",
   "execution_count": 76,
   "id": "8654bcba-7c08-4135-8e94-cbfa0daee109",
   "metadata": {
    "tags": []
   },
   "outputs": [],
   "source": [
    "training_X = np.c_[new_templist]     # temperature list as values for array of x\n",
    "training_Y = np.c_[new_sensorlist]   # Sensor list as values for array of y\n"
   ]
  },
  {
   "cell_type": "code",
   "execution_count": 74,
   "id": "889f502d-42c3-4417-9a1e-6fc0570db0bf",
   "metadata": {
    "tags": []
   },
   "outputs": [
    {
     "data": {
      "text/plain": [
       "array([[-13.],\n",
       "       [-19.],\n",
       "       [ -3.],\n",
       "       [ -5.],\n",
       "       [-12.],\n",
       "       [-14.],\n",
       "       [ 27.],\n",
       "       [-15.],\n",
       "       [  7.],\n",
       "       [-18.],\n",
       "       [ -6.],\n",
       "       [ 18.],\n",
       "       [ 15.],\n",
       "       [ 21.],\n",
       "       [ 14.],\n",
       "       [  6.],\n",
       "       [ -6.],\n",
       "       [  8.],\n",
       "       [ 17.],\n",
       "       [-20.],\n",
       "       [ 28.],\n",
       "       [-10.],\n",
       "       [ 24.],\n",
       "       [  7.],\n",
       "       [  1.],\n",
       "       [ -3.],\n",
       "       [-11.],\n",
       "       [ -7.],\n",
       "       [ 28.],\n",
       "       [-15.],\n",
       "       [  4.],\n",
       "       [-14.],\n",
       "       [  2.],\n",
       "       [ 18.],\n",
       "       [ -4.],\n",
       "       [ 26.],\n",
       "       [  9.],\n",
       "       [ 14.],\n",
       "       [  4.],\n",
       "       [-15.],\n",
       "       [ 15.],\n",
       "       [ -2.],\n",
       "       [ 20.],\n",
       "       [ 19.],\n",
       "       [  3.],\n",
       "       [ 16.],\n",
       "       [ -8.],\n",
       "       [ 25.],\n",
       "       [-16.],\n",
       "       [ 22.],\n",
       "       [ -6.],\n",
       "       [ 29.],\n",
       "       [ -6.],\n",
       "       [-14.],\n",
       "       [  4.],\n",
       "       [ -3.],\n",
       "       [  9.],\n",
       "       [-10.],\n",
       "       [  3.],\n",
       "       [  2.],\n",
       "       [ -7.],\n",
       "       [ 22.],\n",
       "       [ -3.],\n",
       "       [ 23.],\n",
       "       [ 21.],\n",
       "       [-16.],\n",
       "       [ 18.],\n",
       "       [ 20.],\n",
       "       [-10.],\n",
       "       [ -5.],\n",
       "       [-10.],\n",
       "       [  9.],\n",
       "       [ 24.],\n",
       "       [ 15.],\n",
       "       [ 23.],\n",
       "       [  0.],\n",
       "       [ 29.],\n",
       "       [ 29.],\n",
       "       [-17.],\n",
       "       [ -6.],\n",
       "       [-18.],\n",
       "       [  0.],\n",
       "       [ -7.],\n",
       "       [ 16.],\n",
       "       [ 25.],\n",
       "       [ -7.],\n",
       "       [ 11.],\n",
       "       [  5.],\n",
       "       [  9.],\n",
       "       [ -4.],\n",
       "       [ 27.],\n",
       "       [ 15.],\n",
       "       [ 14.],\n",
       "       [ -4.],\n",
       "       [ 27.],\n",
       "       [ 17.],\n",
       "       [  7.],\n",
       "       [  5.],\n",
       "       [  3.],\n",
       "       [ -6.],\n",
       "       [-12.],\n",
       "       [ 11.],\n",
       "       [-15.],\n",
       "       [ 28.],\n",
       "       [-11.],\n",
       "       [ 23.],\n",
       "       [  7.],\n",
       "       [ 18.],\n",
       "       [-16.],\n",
       "       [  4.],\n",
       "       [  4.],\n",
       "       [ 18.],\n",
       "       [  9.],\n",
       "       [ 13.],\n",
       "       [ -4.],\n",
       "       [ 26.],\n",
       "       [ 23.],\n",
       "       [ 14.],\n",
       "       [ 28.],\n",
       "       [ -3.],\n",
       "       [  1.],\n",
       "       [-13.],\n",
       "       [ -2.],\n",
       "       [  7.],\n",
       "       [-20.],\n",
       "       [ 26.],\n",
       "       [ -4.],\n",
       "       [ 12.],\n",
       "       [ 28.],\n",
       "       [ 12.],\n",
       "       [ 20.],\n",
       "       [ -1.],\n",
       "       [ 20.],\n",
       "       [ 12.],\n",
       "       [ 18.],\n",
       "       [  3.],\n",
       "       [ 28.]])"
      ]
     },
     "execution_count": 74,
     "metadata": {},
     "output_type": "execute_result"
    }
   ],
   "source": [
    "training_X"
   ]
  },
  {
   "cell_type": "code",
   "execution_count": 77,
   "id": "4cdb5dc3-7931-4862-9c40-bbdba2a7b032",
   "metadata": {
    "tags": []
   },
   "outputs": [
    {
     "data": {
      "text/plain": [
       "array([[1664.4],\n",
       "       [1382.2],\n",
       "       [1403.4],\n",
       "       [1766. ],\n",
       "       [1318.6],\n",
       "       [1171.2],\n",
       "       [1490.4],\n",
       "       [1025. ],\n",
       "       [1883.4],\n",
       "       [1428.4],\n",
       "       [1054.8],\n",
       "       [1801.6],\n",
       "       [1250. ],\n",
       "       [1770.2],\n",
       "       [1222.8],\n",
       "       [1793.2],\n",
       "       [1353.8],\n",
       "       [1833.6],\n",
       "       [1332.4],\n",
       "       [1243. ],\n",
       "       [1879.6],\n",
       "       [1709. ],\n",
       "       [1886.8],\n",
       "       [1201.4],\n",
       "       [1200.2],\n",
       "       [1400.4],\n",
       "       [1615.8],\n",
       "       [1412.6],\n",
       "       [1826.6],\n",
       "       [1605. ],\n",
       "       [1532.8],\n",
       "       [1444.2],\n",
       "       [1693.4],\n",
       "       [1426.6],\n",
       "       [1573.2],\n",
       "       [1767.2],\n",
       "       [1753.8],\n",
       "       [1817.8],\n",
       "       [1428.8],\n",
       "       [1575. ],\n",
       "       [1699. ],\n",
       "       [1339.6],\n",
       "       [1379. ],\n",
       "       [1491.8],\n",
       "       [1193.6],\n",
       "       [1252.2],\n",
       "       [1120.4],\n",
       "       [1363. ],\n",
       "       [1238.8],\n",
       "       [1525.4],\n",
       "       [1410.8],\n",
       "       [1635.8],\n",
       "       [1532.8],\n",
       "       [1317.2],\n",
       "       [1040.8],\n",
       "       [1094.4],\n",
       "       [1135.8],\n",
       "       [1620. ],\n",
       "       [1301.6],\n",
       "       [1018.4],\n",
       "       [1317.6],\n",
       "       [1533.4],\n",
       "       [1145.4],\n",
       "       [1804.6],\n",
       "       [1492.2],\n",
       "       [1188.8],\n",
       "       [1356.6],\n",
       "       [1996. ],\n",
       "       [1697. ],\n",
       "       [1416. ],\n",
       "       [1224. ],\n",
       "       [1314.8],\n",
       "       [1740.8],\n",
       "       [1364. ],\n",
       "       [1406.6],\n",
       "       [1586. ],\n",
       "       [1851.8],\n",
       "       [1772.8],\n",
       "       [1052.6],\n",
       "       [1228.8],\n",
       "       [1080.4],\n",
       "       [1796. ],\n",
       "       [1460.6],\n",
       "       [1848.2],\n",
       "       [1442. ],\n",
       "       [1203.6],\n",
       "       [1448.2],\n",
       "       [1817. ],\n",
       "       [1177.8],\n",
       "       [1039.2],\n",
       "       [1835.4],\n",
       "       [1313. ],\n",
       "       [1584.8],\n",
       "       [1030.2],\n",
       "       [1661.4],\n",
       "       [1677.4],\n",
       "       [1287.4],\n",
       "       [1943. ],\n",
       "       [1040.6],\n",
       "       [1261.8],\n",
       "       [1532.6],\n",
       "       [1977.2],\n",
       "       [1217. ],\n",
       "       [1493.6],\n",
       "       [1275.8],\n",
       "       [1402.6],\n",
       "       [1980.4],\n",
       "       [1992.6],\n",
       "       [1505.8],\n",
       "       [1222.8],\n",
       "       [1150.8],\n",
       "       [1637.6],\n",
       "       [1563.8],\n",
       "       [1627.6],\n",
       "       [1061.2],\n",
       "       [1419.2],\n",
       "       [1695.6],\n",
       "       [1154.8],\n",
       "       [1792.6],\n",
       "       [1131.4],\n",
       "       [1732.2],\n",
       "       [1153.4],\n",
       "       [1169.6],\n",
       "       [1465.4],\n",
       "       [1316. ],\n",
       "       [1928.2],\n",
       "       [1520.2],\n",
       "       [1853.4],\n",
       "       [1891.6],\n",
       "       [1312.4],\n",
       "       [1478. ],\n",
       "       [1885.8],\n",
       "       [1315. ],\n",
       "       [1711.4],\n",
       "       [1974.6],\n",
       "       [1728.6],\n",
       "       [1714.6]])"
      ]
     },
     "execution_count": 77,
     "metadata": {},
     "output_type": "execute_result"
    }
   ],
   "source": [
    "training_Y"
   ]
  },
  {
   "cell_type": "markdown",
   "id": "animal-inspection",
   "metadata": {},
   "source": [
    "### <span style=\"color:red\"> Create a linear model object Using sklearn</span>"
   ]
  },
  {
   "cell_type": "code",
   "execution_count": 78,
   "id": "8c9e517c-533f-4a4e-94fa-06b535054395",
   "metadata": {
    "tags": []
   },
   "outputs": [
    {
     "data": {
      "text/html": [
       "<style>#sk-container-id-6 {color: black;}#sk-container-id-6 pre{padding: 0;}#sk-container-id-6 div.sk-toggleable {background-color: white;}#sk-container-id-6 label.sk-toggleable__label {cursor: pointer;display: block;width: 100%;margin-bottom: 0;padding: 0.3em;box-sizing: border-box;text-align: center;}#sk-container-id-6 label.sk-toggleable__label-arrow:before {content: \"▸\";float: left;margin-right: 0.25em;color: #696969;}#sk-container-id-6 label.sk-toggleable__label-arrow:hover:before {color: black;}#sk-container-id-6 div.sk-estimator:hover label.sk-toggleable__label-arrow:before {color: black;}#sk-container-id-6 div.sk-toggleable__content {max-height: 0;max-width: 0;overflow: hidden;text-align: left;background-color: #f0f8ff;}#sk-container-id-6 div.sk-toggleable__content pre {margin: 0.2em;color: black;border-radius: 0.25em;background-color: #f0f8ff;}#sk-container-id-6 input.sk-toggleable__control:checked~div.sk-toggleable__content {max-height: 200px;max-width: 100%;overflow: auto;}#sk-container-id-6 input.sk-toggleable__control:checked~label.sk-toggleable__label-arrow:before {content: \"▾\";}#sk-container-id-6 div.sk-estimator input.sk-toggleable__control:checked~label.sk-toggleable__label {background-color: #d4ebff;}#sk-container-id-6 div.sk-label input.sk-toggleable__control:checked~label.sk-toggleable__label {background-color: #d4ebff;}#sk-container-id-6 input.sk-hidden--visually {border: 0;clip: rect(1px 1px 1px 1px);clip: rect(1px, 1px, 1px, 1px);height: 1px;margin: -1px;overflow: hidden;padding: 0;position: absolute;width: 1px;}#sk-container-id-6 div.sk-estimator {font-family: monospace;background-color: #f0f8ff;border: 1px dotted black;border-radius: 0.25em;box-sizing: border-box;margin-bottom: 0.5em;}#sk-container-id-6 div.sk-estimator:hover {background-color: #d4ebff;}#sk-container-id-6 div.sk-parallel-item::after {content: \"\";width: 100%;border-bottom: 1px solid gray;flex-grow: 1;}#sk-container-id-6 div.sk-label:hover label.sk-toggleable__label {background-color: #d4ebff;}#sk-container-id-6 div.sk-serial::before {content: \"\";position: absolute;border-left: 1px solid gray;box-sizing: border-box;top: 0;bottom: 0;left: 50%;z-index: 0;}#sk-container-id-6 div.sk-serial {display: flex;flex-direction: column;align-items: center;background-color: white;padding-right: 0.2em;padding-left: 0.2em;position: relative;}#sk-container-id-6 div.sk-item {position: relative;z-index: 1;}#sk-container-id-6 div.sk-parallel {display: flex;align-items: stretch;justify-content: center;background-color: white;position: relative;}#sk-container-id-6 div.sk-item::before, #sk-container-id-6 div.sk-parallel-item::before {content: \"\";position: absolute;border-left: 1px solid gray;box-sizing: border-box;top: 0;bottom: 0;left: 50%;z-index: -1;}#sk-container-id-6 div.sk-parallel-item {display: flex;flex-direction: column;z-index: 1;position: relative;background-color: white;}#sk-container-id-6 div.sk-parallel-item:first-child::after {align-self: flex-end;width: 50%;}#sk-container-id-6 div.sk-parallel-item:last-child::after {align-self: flex-start;width: 50%;}#sk-container-id-6 div.sk-parallel-item:only-child::after {width: 0;}#sk-container-id-6 div.sk-dashed-wrapped {border: 1px dashed gray;margin: 0 0.4em 0.5em 0.4em;box-sizing: border-box;padding-bottom: 0.4em;background-color: white;}#sk-container-id-6 div.sk-label label {font-family: monospace;font-weight: bold;display: inline-block;line-height: 1.2em;}#sk-container-id-6 div.sk-label-container {text-align: center;}#sk-container-id-6 div.sk-container {/* jupyter's `normalize.less` sets `[hidden] { display: none; }` but bootstrap.min.css set `[hidden] { display: none !important; }` so we also need the `!important` here to be able to override the default hidden behavior on the sphinx rendered scikit-learn.org. See: https://github.com/scikit-learn/scikit-learn/issues/21755 */display: inline-block !important;position: relative;}#sk-container-id-6 div.sk-text-repr-fallback {display: none;}</style><div id=\"sk-container-id-6\" class=\"sk-top-container\"><div class=\"sk-text-repr-fallback\"><pre>LinearRegression()</pre><b>In a Jupyter environment, please rerun this cell to show the HTML representation or trust the notebook. <br />On GitHub, the HTML representation is unable to render, please try loading this page with nbviewer.org.</b></div><div class=\"sk-container\" hidden><div class=\"sk-item\"><div class=\"sk-estimator sk-toggleable\"><input class=\"sk-toggleable__control sk-hidden--visually\" id=\"sk-estimator-id-6\" type=\"checkbox\" checked><label for=\"sk-estimator-id-6\" class=\"sk-toggleable__label sk-toggleable__label-arrow\">LinearRegression</label><div class=\"sk-toggleable__content\"><pre>LinearRegression()</pre></div></div></div></div></div>"
      ],
      "text/plain": [
       "LinearRegression()"
      ]
     },
     "execution_count": 78,
     "metadata": {},
     "output_type": "execute_result"
    }
   ],
   "source": [
    "import sklearn\n",
    "from sklearn.linear_model import LinearRegression\n",
    "model = sklearn.linear_model.LinearRegression()\n",
    "\n",
    "# Trains the linear model using the training temperature and sensor data.\n",
    "\n",
    "model = LinearRegression()\n",
    "model.fit(training_X,training_Y)\n"
   ]
  },
  {
   "cell_type": "markdown",
   "id": "acknowledged-sight",
   "metadata": {},
   "source": [
    "### <span style=\"color:red\">Resulting Predictions</span>"
   ]
  },
  {
   "cell_type": "code",
   "execution_count": 82,
   "id": "aba9c846-e29f-4514-83ac-8a93f8d5e844",
   "metadata": {
    "tags": []
   },
   "outputs": [
    {
     "name": "stdout",
     "output_type": "stream",
     "text": [
      "Temperature Predictions: [[1320.64943285]\n",
      " [1269.09360584]\n",
      " [1406.57581119]\n",
      " [1389.39053552]\n",
      " [1329.24207068]\n",
      " [1312.05679501]\n",
      " [1664.35494623]\n",
      " [1303.46415718]\n",
      " [1492.50218954]\n",
      " [1277.68624367]\n",
      " [1380.79789769]\n",
      " [1587.02120572]\n",
      " [1561.24329222]\n",
      " [1612.79911923]\n",
      " [1552.65065438]\n",
      " [1483.90955171]\n",
      " [1380.79789769]\n",
      " [1501.09482738]\n",
      " [1578.42856789]\n",
      " [1260.500968  ]\n",
      " [1672.94758407]\n",
      " [1346.42734635]\n",
      " [1638.57703273]\n",
      " [1492.50218954]\n",
      " [1440.94636253]\n",
      " [1406.57581119]\n",
      " [1337.83470852]\n",
      " [1372.20525985]\n",
      " [1672.94758407]\n",
      " [1303.46415718]\n",
      " [1466.72427604]\n",
      " [1312.05679501]\n",
      " [1449.53900037]\n",
      " [1587.02120572]\n",
      " [1397.98317336]\n",
      " [1655.7623084 ]\n",
      " [1509.68746521]\n",
      " [1552.65065438]\n",
      " [1466.72427604]\n",
      " [1303.46415718]\n",
      " [1561.24329222]\n",
      " [1415.16844903]\n",
      " [1604.20648139]\n",
      " [1595.61384356]\n",
      " [1458.1316382 ]\n",
      " [1569.83593005]\n",
      " [1363.61262202]\n",
      " [1647.16967056]\n",
      " [1294.87151934]\n",
      " [1621.39175706]\n",
      " [1380.79789769]\n",
      " [1681.5402219 ]\n",
      " [1380.79789769]\n",
      " [1312.05679501]\n",
      " [1466.72427604]\n",
      " [1406.57581119]\n",
      " [1509.68746521]\n",
      " [1346.42734635]\n",
      " [1458.1316382 ]\n",
      " [1449.53900037]\n",
      " [1372.20525985]\n",
      " [1621.39175706]\n",
      " [1406.57581119]\n",
      " [1629.9843949 ]\n",
      " [1612.79911923]\n",
      " [1294.87151934]\n",
      " [1587.02120572]\n",
      " [1604.20648139]\n",
      " [1346.42734635]\n",
      " [1389.39053552]\n",
      " [1346.42734635]\n",
      " [1509.68746521]\n",
      " [1638.57703273]\n",
      " [1561.24329222]\n",
      " [1629.9843949 ]\n",
      " [1432.3537247 ]\n",
      " [1681.5402219 ]\n",
      " [1681.5402219 ]\n",
      " [1286.27888151]\n",
      " [1380.79789769]\n",
      " [1277.68624367]\n",
      " [1432.3537247 ]\n",
      " [1372.20525985]\n",
      " [1569.83593005]\n",
      " [1647.16967056]\n",
      " [1372.20525985]\n",
      " [1526.87274088]\n",
      " [1475.31691387]\n",
      " [1509.68746521]\n",
      " [1397.98317336]\n",
      " [1664.35494623]\n",
      " [1561.24329222]\n",
      " [1552.65065438]\n",
      " [1397.98317336]\n",
      " [1664.35494623]\n",
      " [1578.42856789]\n",
      " [1492.50218954]\n",
      " [1475.31691387]\n",
      " [1458.1316382 ]\n",
      " [1380.79789769]\n",
      " [1329.24207068]\n",
      " [1526.87274088]\n",
      " [1303.46415718]\n",
      " [1672.94758407]\n",
      " [1337.83470852]\n",
      " [1629.9843949 ]\n",
      " [1492.50218954]\n",
      " [1587.02120572]\n",
      " [1294.87151934]\n",
      " [1466.72427604]\n",
      " [1466.72427604]\n",
      " [1587.02120572]\n",
      " [1509.68746521]\n",
      " [1544.05801655]\n",
      " [1397.98317336]\n",
      " [1655.7623084 ]\n",
      " [1629.9843949 ]\n",
      " [1552.65065438]\n",
      " [1672.94758407]\n",
      " [1406.57581119]\n",
      " [1440.94636253]\n",
      " [1320.64943285]\n",
      " [1415.16844903]\n",
      " [1492.50218954]\n",
      " [1260.500968  ]\n",
      " [1655.7623084 ]\n",
      " [1397.98317336]\n",
      " [1535.46537871]\n",
      " [1672.94758407]\n",
      " [1535.46537871]\n",
      " [1604.20648139]\n",
      " [1423.76108686]\n",
      " [1604.20648139]\n",
      " [1535.46537871]\n",
      " [1587.02120572]\n",
      " [1458.1316382 ]\n",
      " [1672.94758407]]\n",
      "\n",
      "Sensor Predictions: [[15733.94013674]\n",
      " [13309.0977398 ]\n",
      " [13491.26166189]\n",
      " [16606.95214075]\n",
      " [12762.60597351]\n",
      " [11496.05115668]\n",
      " [14238.82115351]\n",
      " [10239.80750525]\n",
      " [17615.72782254]\n",
      " [13706.07760776]\n",
      " [10495.86811272]\n",
      " [16912.85004766]\n",
      " [12173.15101805]\n",
      " [16643.04121965]\n",
      " [11939.43126895]\n",
      " [16840.67188985]\n",
      " [13065.06682529]\n",
      " [17187.81445837]\n",
      " [12881.18437563]\n",
      " [12113.00255321]\n",
      " [17583.07579877]\n",
      " [16117.17178417]\n",
      " [17644.94279118]\n",
      " [11755.54881929]\n",
      " [11745.23765388]\n",
      " [13465.48374839]\n",
      " [15316.33793798]\n",
      " [13570.31392997]\n",
      " [17127.66599353]\n",
      " [15223.53744936]\n",
      " [14603.1489977 ]\n",
      " [13841.84128555]\n",
      " [15983.12663395]\n",
      " [13690.61085966]\n",
      " [14950.29156622]\n",
      " [16617.26330615]\n",
      " [16502.12195916]\n",
      " [17052.05078058]\n",
      " [13709.51466289]\n",
      " [14965.75831432]\n",
      " [16031.24540582]\n",
      " [12943.05136804]\n",
      " [13281.60129873]\n",
      " [14250.85084648]\n",
      " [11688.52624418]\n",
      " [12192.05482129]\n",
      " [11059.54515468]\n",
      " [13144.11909337]\n",
      " [12076.9134743 ]\n",
      " [14539.56347772]\n",
      " [13554.84718187]\n",
      " [15488.19069467]\n",
      " [14603.1489977 ]\n",
      " [12750.57628054]\n",
      " [10375.57118304]\n",
      " [10836.13657097]\n",
      " [11191.87177733]\n",
      " [15352.42701688]\n",
      " [12616.53113032]\n",
      " [10183.09609554]\n",
      " [12754.01333568]\n",
      " [14608.3045804 ]\n",
      " [11274.36110054]\n",
      " [16938.62796117]\n",
      " [14254.28790161]\n",
      " [11647.28158257]\n",
      " [13089.12621123]\n",
      " [18583.25884273]\n",
      " [16014.06013015]\n",
      " [13599.52889861]\n",
      " [11949.74243435]\n",
      " [12729.95394974]\n",
      " [16390.41766731]\n",
      " [13152.71173121]\n",
      " [13518.75810296]\n",
      " [15060.27733051]\n",
      " [17344.20046696]\n",
      " [16665.38207802]\n",
      " [10476.96430949]\n",
      " [11990.98709596]\n",
      " [10715.83964129]\n",
      " [16864.73127579]\n",
      " [13982.76054604]\n",
      " [17313.26697076]\n",
      " [13822.93748231]\n",
      " [11774.45262252]\n",
      " [13876.21183689]\n",
      " [17045.17667032]\n",
      " [11552.76256639]\n",
      " [10361.8229625 ]\n",
      " [17203.28120648]\n",
      " [12714.48720164]\n",
      " [15049.9661651 ]\n",
      " [10284.48922199]\n",
      " [15708.16222324]\n",
      " [15845.6444286 ]\n",
      " [12494.51567307]\n",
      " [18127.84903749]\n",
      " [10373.85265547]\n",
      " [12274.5441445 ]\n",
      " [14601.43047013]\n",
      " [18421.71725143]\n",
      " [11889.59396951]\n",
      " [14266.31759458]\n",
      " [12394.84107419]\n",
      " [13484.38755162]\n",
      " [18449.2136925 ]\n",
      " [18554.04387409]\n",
      " [14371.14777616]\n",
      " [11939.43126895]\n",
      " [11320.76134485]\n",
      " [15503.65744277]\n",
      " [14869.52077058]\n",
      " [15417.73106443]\n",
      " [10550.86099486]\n",
      " [13627.02533968]\n",
      " [16002.03043719]\n",
      " [11355.13189619]\n",
      " [16835.51630715]\n",
      " [11154.06417086]\n",
      " [16316.52098194]\n",
      " [11343.10220322]\n",
      " [11482.30293614]\n",
      " [14024.00520764]\n",
      " [12740.26511514]\n",
      " [18000.67799753]\n",
      " [14494.88176098]\n",
      " [17357.9486875 ]\n",
      " [17686.18745278]\n",
      " [12709.33161894]\n",
      " [14132.27244436]\n",
      " [17636.35015334]\n",
      " [12731.67247731]\n",
      " [16137.79411497]\n",
      " [18399.37639306]\n",
      " [16285.58748573]\n",
      " [16165.29055605]]\n"
     ]
    }
   ],
   "source": [
    "# Temperature prediction\n",
    "temp_predictions = model.predict(training_X) \n",
    "\n",
    "# Sensor prediction\n",
    "sensor_predictions = model.predict(training_Y)\n",
    "\n",
    "print(\"Temperature Predictions:\", temp_predictions)\n",
    "print(\"\\nSensor Predictions:\", sensor_predictions)\n"
   ]
  },
  {
   "cell_type": "code",
   "execution_count": 85,
   "id": "d3668494-ef28-4afd-b27e-d1c372ae9237",
   "metadata": {
    "tags": []
   },
   "outputs": [
    {
     "data": {
      "text/plain": [
       "(1432.3537246977537, 8.592637834683103)"
      ]
     },
     "execution_count": 85,
     "metadata": {},
     "output_type": "execute_result"
    }
   ],
   "source": [
    "# Finding t0 and t1 for regression equation (y) = t0 + t1*(x)\n",
    "t0, t1 = model.intercept_[0], model.coef_[0][0]\n",
    "t0, t1     "
   ]
  },
  {
   "cell_type": "markdown",
   "id": "e4cb034a-891b-4f01-95db-742839e3bf6e",
   "metadata": {
    "tags": []
   },
   "source": [
    "## Regression Equation\n",
    "#### Sensor =  1432.3537246977537 + (8.592637834683103) * Temperature ####"
   ]
  },
  {
   "cell_type": "markdown",
   "id": "sitting-broadcast",
   "metadata": {},
   "source": [
    "### <span style=\"color:red\">Scatter Plot of the Prepared Data with the Superimposed Predicted Line</span>\n",
    "  "
   ]
  },
  {
   "cell_type": "code",
   "execution_count": 86,
   "id": "5b36863b-8787-46c1-a9c4-70c1973ba734",
   "metadata": {
    "tags": []
   },
   "outputs": [
    {
     "data": {
      "image/png": "[encoded data removed]",
      "text/plain": [
       "<Figure size 1600x1200 with 1 Axes>"
      ]
     },
     "metadata": {},
     "output_type": "display_data"
    }
   ],
   "source": [
    "# plot the scatter plot of the predicted data\n",
    "plt.figure(figsize=(16, 12))\n",
    "plt.scatter(x=temp_predictions,y=sensor_predictions)\n",
    "plt.title('Predicted Regression Model')\n",
    "plt.xlabel('Temperature')\n",
    "plt.ylabel('Sensor')\n",
    "\n",
    "plt.axis([1000, 2000, 1000, 20000])\n",
    "X=np.linspace(0, 2000, 100)\n",
    "\n",
    "# plot the predicted line\n",
    "plt.plot(X, t0 + t1*X, c=\"b\")\n",
    "\n",
    "plt.show()"
   ]
  },
  {
   "cell_type": "markdown",
   "id": "arabic-bedroom",
   "metadata": {},
   "source": [
    "## Model Usage"
   ]
  },
  {
   "cell_type": "markdown",
   "id": "living-construction",
   "metadata": {},
   "source": [
    "\n",
    "* Demonstrates prediction with a single input Celsius value of 5.\n",
    "* Demonstrates prediction for the a list of input temperatures: -25, 5, 7, 12, 25\n",
    " "
   ]
  },
  {
   "cell_type": "code",
   "execution_count": 109,
   "id": "a35468c4-9b9d-436a-b621-59e995a6d496",
   "metadata": {
    "tags": []
   },
   "outputs": [
    {
     "name": "stdout",
     "output_type": "stream",
     "text": [
      "Test_Temperature of 5 celcius = 5\n",
      "Predicted_Sensor_Value for temperature 5: 1475.3169138711692\n",
      "\n",
      "Test_Temperature of list [-25, 5, 7, 12, 25]\n",
      "Predicted Sensor Value for temperature -25: [1217.53777883]\n",
      "Predicted Sensor Value for temperature 5: [1475.31691387]\n",
      "Predicted Sensor Value for temperature 7: [1492.50218954]\n",
      "Predicted Sensor Value for temperature 12: [1535.46537871]\n",
      "Predicted Sensor Value for temperature 25: [1647.16967056]\n"
     ]
    }
   ],
   "source": [
    "import numpy as np \n",
    "\n",
    "Test_Temperature= [[5]]\n",
    "Predicted_Sensor_Value = model.predict(Test_Temperature)[0][0]\n",
    "print(f\"Test_Temperature of 5 celcius = {Test_Temperature[0][0]:,}\")\n",
    "print(f\"Predicted_Sensor_Value for temperature 5: {Predicted_Sensor_Value}\\n\")\n",
    "\n",
    "Test_Temperature_list = [[-25, 5, 7, 12, 25]]\n",
    "print(f\"Test_Temperature of list {Test_Temperature_list[0]}\")\n",
    "# Loop through each temperature in the list\n",
    "for temp in Test_Temperature_list[0]:\n",
    "    Predicted_Sensor_Value = model.predict([[temp]])[0]\n",
    "    print(f\"Predicted Sensor Value for temperature {temp}: {Predicted_Sensor_Value}\")"
   ]
  }
 ],
 "metadata": {
  "kernelspec": {
   "display_name": "Python 3 (ipykernel)",
   "language": "python",
   "name": "python3"
  },
  "language_info": {
   "codemirror_mode": {
    "name": "ipython",
    "version": 3
   },
   "file_extension": ".py",
   "mimetype": "text/x-python",
   "name": "python",
   "nbconvert_exporter": "python",
   "pygments_lexer": "ipython3",
   "version": "3.11.4"
  }
 },
 "nbformat": 4,
 "nbformat_minor": 5
}
