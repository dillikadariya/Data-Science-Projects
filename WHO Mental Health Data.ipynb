# Data Science - Project- Mental Health Expenditure Among 78 Countries 

Name: Dilli Kadariya

## Purpose

This project evaluates data compiled by WHO that includes government expenditure on mental health as a percentage of their total expenditure of 78 countries for the year 2011. 


## Data Sources ##

The data used is available at the following website as a CSV file:

Link to the website: https://www.who.int/data/gho/data/indicators/indicator-details/GHO/government-expenditures-on-mental-health-as-a-percentage-of-total-government-expenditures-on-health-(-)

The few important columns in the file are: Indicator, ValueType , Location, Period, and value

## #1 Acquiring Data

Loads the data into a dataframe called "WHOdata" and displays the contents of the resulting dataframe.

import os
import pandas as pd
from pandas import Series, DataFrame

WHOdata = pd.read_csv(r'C:\Users\dilli\Downloads\Project Mental Health\WHO Mental Health Expenditure.csv')

WHOdata

## #2 Exploring the Data

### A. Rename the Value column as "Expenditure" and Location as "Country"

WHOdata.rename(columns={'Value': 'Expenditure', 'Location': 'Country'}, inplace=True)
WHOdata

### B. Remove columns with Nan values

Data=WHOdata.dropna(axis=1, how='any')
Data

### C. Displays the values and associated frequencies of the Value (expenditure) column. 

Frequency = WHOdata['Expenditure'].value_counts()
Frequency

### D. Display the countries and their mental health expenditure sorted from lowest to highest.

sorted_data = WHOdata[['Country','Expenditure']].sort_values(by='Expenditure', ascending=True)
sorted_data


### E. Descriptive statistics 

#### Uses the *describe* method to show a set of descriptive statistics about the expenditure across all 78 countries.

WHOdata['Expenditure'].describe()


#### Countries with maximum and minimum expenditure on mental health

max_row = WHOdata['Expenditure'].idxmax()
min_row = WHOdata['Expenditure'].idxmin()

# Gets the values of 'Country' and 'Expenditure' columns for the row with max expenditure
country_max = WHOdata.loc[max_row, 'Country']
max_expenditure = WHOdata.loc[max_row, 'Expenditure']

country_min = WHOdata.loc[min_row, 'Country']
min_expenditure = WHOdata.loc[min_row, 'Expenditure']

# Prints values of 'Country' and 'Expenditure' for the row with max expenditure
print(f"Country with max expenditure: {country_max}")
print(f"Expenditure as % of total: {max_expenditure}")
print(f"Country with max expenditure: {country_min}")
print(f"Expenditure as % of total: {min_expenditure}")


## #3 Visualizing the Data

### A. This method produces a bar graph on the total expenditure on mental health of each country.


import matplotlib.pyplot as plt

# Sorting the data by Expenditure for better visualization
sorted_data = WHOdata.sort_values(by='Expenditure', ascending=True)

# Plotting the horizontal bar graph
plt.figure(figsize=(8, 12))  # Increase figure size
bars = plt.barh(sorted_data['Country'], sorted_data['Expenditure'], color='skyblue')  # Use barh for horizontal bars
plt.ylabel('Country')
plt.title('Expenditure by Countries as percentage of Total Goverment Expenditure')

plt.xticks([])  # Remove x-axis values

# Removing all borders
ax = plt.gca()
ax.spines['top'].set_visible(False)
ax.spines['right'].set_visible(False)
ax.spines['left'].set_visible(False)
ax.spines['bottom'].set_visible(False)

# Set x-axis limit
plt.xlim([0, 20])

# Adding percentage labels on the bars
for bar in bars:
    width = bar.get_width()
    plt.text(width + 0.1, bar.get_y() + bar.get_height() / 2, f'{width:.1f}%', va='center')  # Adjusts label position

plt.tight_layout()
plt.show()


### B. Top 10 countries that invested the most on mental health

This code defines a function "top" that returns the n rows with the highest value for the specified column. The top accepts a dataframe as its first input, a parameter named n that accepts a number and provides a reasonable default, and a parameter called column that defaults to 'Expenditure'.

def top(df, n=5, column='Expenditure'):
    return df.sort_values(by=column, ascending=False)[:n][['Country', 'Period', 'ParentLocation', 'Expenditure']]

top(Data, n=10)  # Displays the top 10 rows with columns: Country, Period, ParentLocation


### C. 10 countries that invested the least on mental health

 This code defines a function "bottom" that returns the n rows with the lowest value for the specified column. The top accepts a dataframe as its first input, a parameter named n that accepts a number and provides a reasonable default, and a parameter called column that defaults to 'Expenditure'.

def bottom(df, n=5, column='Expenditure'):
    return df.sort_values(by=column, ascending=True)[:n] [['Country', 'Period', 'ParentLocation', 'Expenditure']]
bottom(Data, n=10) # lowest 10 values

## Insights from data

 The countries that spent the most on mental health in 2011 were mostly from the European continent with France spending 12.91% and Germany spending 11% of its total expenditure. Neatherland, Newzealnd, and Sweden followed Germany and had almost the same spending of between 10-11%. The top spending countries are all high income countries except Algeria (middle income).

The countries that spent the least on mental health in 2011 included countries from the African, Western Pacific, and South American region with Zimbabwe spending only 0.01% and Papua New Guinea spending 0.1% of its total expenditure. Bangladesh was the only country on the list from South-East Asia with 0.44% of total spending on mental health. 

From this data, we can conclude that there is some correlation between gdp per capita and a country's investment in mental health. The top spending countries were all high income countries except Algeria (middle income) and the countries with least spending were from low and lower middle income countries.
